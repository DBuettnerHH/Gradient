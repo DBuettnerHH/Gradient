{
 "cells": [
  {
   "cell_type": "markdown",
   "metadata": {},
   "source": [
    "## Algorithm"
   ]
  },
  {
   "cell_type": "markdown",
   "metadata": {},
   "source": [
    "A simple gradient Descent Algorithm is as follows:\n",
    "1. Obtain a function to minimize F(x)\n",
    "\n",
    "2. Initialize a value x from which to start the descent or optimization from\n",
    "\n",
    "3. Specify a learning rate that will determine how much of a step to descend by or how quickly you converge to the minimum value\n",
    "\n",
    "4. Obtain the derivative of that value x (the descent)\n",
    "\n",
    "5. Proceed to descend by the derivative of that value multiplied by the learning rate\n",
    "\n",
    "6. Update the value of x with the new value descended to\n",
    "\n",
    "7. Check your stop condition to see whether to stop\n",
    "\n",
    "8. If condition satisfied, stop. If not, proceed to step 4 with the new x value and keep repeating algorithm"
   ]
  },
  {
   "cell_type": "markdown",
   "metadata": {},
   "source": [
    "### Let us implement this in Python"
   ]
  },
  {
   "cell_type": "markdown",
   "metadata": {},
   "source": [
    "We will implement a simple representation of gradient descent using python. \n",
    "\n",
    "We will create an arbitrary loss function and attempt to find a local minimum value for that function— f(x) = x³ — 3x² + 7"
   ]
  },
  {
   "cell_type": "markdown",
   "metadata": {},
   "source": [
    "#### Step 1"
   ]
  },
  {
   "cell_type": "markdown",
   "metadata": {},
   "source": [
    "We will first visualize this function with a set of values ranging from -1 and 3 (arbitrarily chosen to ensure steep curve)"
   ]
  },
  {
   "cell_type": "code",
   "execution_count": 97,
   "metadata": {},
   "outputs": [
    {
     "data": {
      "image/png": "[encoded data removed]",
      "text/plain": [
       "<Figure size 432x288 with 1 Axes>"
      ]
     },
     "metadata": {
      "needs_background": "light"
     },
     "output_type": "display_data"
    }
   ],
   "source": [
    "# Your code here\n",
    "import numpy as np\n",
    "import matplotlib.pyplot as plt\n",
    "\n",
    "\n",
    "X = np.linspace(-1.2, 3.2, 1000)\n",
    "y = X**3 - 3*X**2 + 7\n",
    "\n",
    "plt.scatter(X, y, s=5)\n",
    "plt.show()"
   ]
  },
  {
   "cell_type": "code",
   "execution_count": 49,
   "metadata": {},
   "outputs": [],
   "source": [
    "#creating the function and plotting it \n",
    "\n",
    "def function(x):\n",
    "    y = x**3 - 3*x**2 + 7\n",
    "    return y\n",
    "\n",
    "\n",
    "#Get 1000 evenly spaced numbers between -1 and 3 (arbitratil chosen to ensure steep curve)\n",
    "\n",
    "\n",
    "#Plot the curve"
   ]
  },
  {
   "cell_type": "markdown",
   "metadata": {},
   "source": [
    "#### Step 2"
   ]
  },
  {
   "cell_type": "markdown",
   "metadata": {},
   "source": [
    "We will then proceed to make two functions for the gradient descent implementation:\n",
    "\n",
    "The first is a derivative function: \n",
    "\n",
    "\n",
    "This function takes in a value of x and returns its derivative based on the initial function we specified. It is shown below:"
   ]
  },
  {
   "cell_type": "code",
   "execution_count": 50,
   "metadata": {},
   "outputs": [],
   "source": [
    "def deriv(x):\n",
    "    \n",
    "    '''\n",
    "    Description: This function takes in a value of x and returns its derivative based on the \n",
    "    initial function we specified.\n",
    "    \n",
    "    Arguments:\n",
    "    \n",
    "    x - a numerical value of x \n",
    "    \n",
    "    Returns:\n",
    "    \n",
    "    x_deriv - a numerical value of the derivative of x\n",
    "    \n",
    "    \n",
    "    Derivitive of function = X**3 - 3*X**2 + 7, derivitive = 3*x**2 - 6*x\n",
    "    '''\n",
    "\n",
    "    derivitive = 3*x**2 - 6*x\n",
    "    \n",
    "    return derivitive\n",
    "    \n",
    "    \n",
    "    \n",
    "    \n",
    "    #return x_deriv\n",
    "    \n",
    "    \n",
    "#deriv(1.8)\n",
    "#deriv(2.2)"
   ]
  },
  {
   "cell_type": "markdown",
   "metadata": {},
   "source": [
    "#### Step 3"
   ]
  },
  {
   "cell_type": "markdown",
   "metadata": {},
   "source": [
    "The second is a Step function: \n",
    "\n",
    "\n",
    "This is the function where the actual gradient descent takes place. \n",
    "\n",
    "\n",
    "\n",
    "This function takes in an initial or previous value for x, updates it based on steps taken via the learning rate and outputs the most minimum value of x that reaches the stop condition. \n",
    "\n",
    "\n",
    "\n",
    "For our stop condition, we are going to use a precision stop.\n",
    "\n",
    "\n",
    "\n",
    "This means that when the absolute difference between our old and updated x is greater than a value, the algorithm should stop. \n",
    "\n",
    "\n",
    "\n",
    "The function will also print out the minimum value of x as well as the number of steps or descents it took to reach that value."
   ]
  },
  {
   "cell_type": "code",
   "execution_count": 95,
   "metadata": {},
   "outputs": [],
   "source": [
    "# Your code here\n",
    "\n",
    "def step(x_new, x_prev, precision, l_r):\n",
    "    \n",
    "    '''\n",
    "    Description: This function takes in an initial or previous value for x, updates it based on \n",
    "    steps taken via the learning rate and outputs the most minimum value of x that reaches the precision satisfaction.\n",
    "    \n",
    "    Arguments:\n",
    "    \n",
    "    x_new - a starting value of x that will get updated based on the learning rate\n",
    "    \n",
    "    x_prev - the previous value of x that is getting updated to the new one\n",
    "    \n",
    "    precision - a precision that determines the stop of the stepwise descent \n",
    "    \n",
    "    l_r - the learning rate (size of each descent step)\n",
    "    \n",
    "    Output:\n",
    "    \n",
    "    1. Prints out the latest new value of x which equates to the minimum we are looking for\n",
    "    2. Prints out the the number of x values which equates to the number of gradient descent steps\n",
    "    3. Plots a first graph of the function with the gradient descent path\n",
    "    4. Plots a second graph of the function with a zoomed in gradient descent path in the important area\n",
    "    \n",
    "    '''\n",
    "    \n",
    "    # create empty lists where the updated values of x and y wil be appended during each iteration\n",
    "    \n",
    "    x_values = []\n",
    "    y_values = []\n",
    "    \n",
    "    #x_values_0 = [x_prev]\n",
    "    #y_values_0 = [function(x_prev)]\n",
    "    \n",
    "    iteration = 0\n",
    "    max_iter = 10000\n",
    "    \n",
    "    # keep looping until your desired precision\n",
    "    \n",
    "    while abs(deriv(x_new)) >= precision:\n",
    "        \n",
    "        # change the value of x\n",
    "        x_prev2 = x_prev\n",
    "        x_prev = x_new\n",
    "        x_new = x_new + l_r*np.sign(deriv(x_new))*(-1)\n",
    "        \n",
    "        #print(x_new, x_prev, x_prev2)\n",
    "        \n",
    "        # get the derivation of the old value of x\n",
    "        deriv_x_prev = deriv(x_prev2)\n",
    "        \n",
    "        \n",
    "        # get your new value of x by adding the previous, the multiplication of the derivative and the learning rate\n",
    "        \n",
    "        y_prev = function(x_prev2)\n",
    "        y_new = y_prev + deriv_x_prev*l_r\n",
    "        \n",
    "        # append the new value of x to a list of all x-s for later visualization of path\n",
    "        x_values.append(x_prev)\n",
    "        \n",
    "        # append the new value of y to a list of all y-s for later visualization of path\n",
    "        y_values.append(y_prev)\n",
    "        \n",
    "        iteration += 1\n",
    "        \n",
    "        if iteration == max_iter:\n",
    "            print('Maximum number of iterations reached, no minimum found')\n",
    "            print('last x_value: ' + str(x_prev) + '  last y_value: ' + str(y_prev))\n",
    "            break\n",
    "       \n",
    "    \n",
    "    # Update the last, most recent values (when :\n",
    "    x_values.append(x_new)\n",
    "    y_values.append(y_new)\n",
    "    \n",
    "    #print (\"Local minimum occurs at: \"+ str(x_new))\n",
    "    print (\"Local minimum occurs at: \"+ str(x_new))\n",
    "    print (\"Number of steps: \" + str(len(x_values)))\n",
    "    \n",
    "    # Create plot to show Gradient descent, \n",
    "    \n",
    "    X_general = np.linspace(-1, 3, 1000)\n",
    "    plt.scatter(X, function(X), s=5)\n",
    "    plt.scatter(x_values, y_values, s=3, c='red')\n",
    "    plt.show()\n",
    "    \n",
    "    \n",
    "    #return x_values"
   ]
  },
  {
   "cell_type": "markdown",
   "metadata": {},
   "source": [
    "#### Step 4"
   ]
  },
  {
   "cell_type": "code",
   "execution_count": 96,
   "metadata": {},
   "outputs": [
    {
     "name": "stdout",
     "output_type": "stream",
     "text": [
      "Local minimum occurs at: 2.0800000000000303\n",
      "Number of steps: 143\n"
     ]
    },
    {
     "data": {
      "image/png": "[encoded data removed]",
      "text/plain": [
       "<Figure size 432x288 with 1 Axes>"
      ]
     },
     "metadata": {
      "needs_background": "light"
     },
     "output_type": "display_data"
    }
   ],
   "source": [
    "#Implement gradient descent (all the arguments are arbitrarily chosen)\n",
    "\n",
    "step(3.5, 3, 0.5, 0.01)"
   ]
  },
  {
   "cell_type": "code",
   "execution_count": null,
   "metadata": {
    "collapsed": true
   },
   "outputs": [],
   "source": []
  },
  {
   "cell_type": "code",
   "execution_count": 36,
   "metadata": {},
   "outputs": [
    {
     "data": {
      "text/plain": [
       "[1]"
      ]
     },
     "execution_count": 36,
     "metadata": {},
     "output_type": "execute_result"
    }
   ],
   "source": [
    "x_values = []\n",
    "x_values.append(1)\n",
    "x_values"
   ]
  },
  {
   "cell_type": "code",
   "execution_count": null,
   "metadata": {},
   "outputs": [],
   "source": []
  },
  {
   "cell_type": "code",
   "execution_count": null,
   "metadata": {},
   "outputs": [],
   "source": []
  },
  {
   "cell_type": "code",
   "execution_count": 187,
   "metadata": {},
   "outputs": [],
   "source": [
    "# Your code here\n",
    "\n",
    "def step2(x_new, x_prev, precision, l_r):\n",
    "    \n",
    "    '''\n",
    "    Description: This function takes in an initial or previous value for x, updates it based on \n",
    "    steps taken via the learning rate and outputs the most minimum value of x that reaches the precision satisfaction.\n",
    "    \n",
    "    Arguments:\n",
    "    \n",
    "    x_new - a starting value of x that will get updated based on the learning rate\n",
    "    \n",
    "    x_prev - the previous value of x that is getting updated to the new one\n",
    "    \n",
    "    precision - a precision that determines the stop of the stepwise descent \n",
    "    \n",
    "    l_r - the learning rate (size of each descent step)\n",
    "    \n",
    "    Output:\n",
    "    \n",
    "    1. Prints out the latest new value of x which equates to the minimum we are looking for\n",
    "    2. Prints out the the number of x values which equates to the number of gradient descent steps\n",
    "    3. Plots a first graph of the function with the gradient descent path\n",
    "    4. Plots a second graph of the function with a zoomed in gradient descent path in the important area\n",
    "    \n",
    "    '''\n",
    "    \n",
    "    # create empty lists where the updated values of x and y wil be appended during each iteration\n",
    "    \n",
    "    x_values = [x_new]\n",
    "    y_values = [function(x_new)]\n",
    "    \n",
    "    iteration = 0\n",
    "    max_iter  = 10000\n",
    "    \n",
    "    # keep looping until your desired precision\n",
    "    \n",
    "    while abs(function(x_new) - function(x_prev)) >= precision:\n",
    "        \n",
    "        # change the value of x\n",
    "        x_prev = x_new\n",
    "        \n",
    "        \n",
    "        # get the derivation of the old value of x\n",
    "        deriv_x_prev = deriv(x_prev)\n",
    "        \n",
    "        # get your new value of x by adding the previous, the multiplication of the derivative and the learning rate\n",
    "        x_new = x_prev + (-1)*deriv_x_prev*l_r\n",
    "        \n",
    "        \n",
    "        # append the new value of x to a list of all x-s for later visualization of path\n",
    "        x_values.append(x_new)\n",
    "        \n",
    "        # append the new value of y to a list of all y-s for later visualization of path\n",
    "        y_values.append(function(x_new))\n",
    "        \n",
    "        #iteration += 1\n",
    "        \n",
    "        #if iteration == max_iter:\n",
    "        #    print('Maximum number of iterations reached, no minimum found')\n",
    "        #    print('last x_value: ' + str(x_prev) + '  last y_value: ' + str(y_prev))\n",
    "        #    break\n",
    "       \n",
    "    \n",
    "    #print (\"Local minimum occurs at: \"+ str(x_new))\n",
    "    print (\"Local minimum occurs at: \"+ str(x_new))\n",
    "    print (\"Number of steps: \" + str(len(x_values)))\n",
    "    \n",
    "    # Create plot to show Gradient descent, \n",
    "    \n",
    "    X_general = np.linspace(-1, 3, 1000)\n",
    "    plt.plot(X, function(X))\n",
    "    plt.scatter(x_values, y_values, c='red')\n",
    "    plt.show()\n",
    "\n",
    "\n",
    "    # Plot zoomed in version of the function, last steps (dependent on )\n",
    "    \n",
    "#    if x_values[-40] < x_values[-1]:\n",
    "#        x_diff = x_values[-1] - x_values[-40]\n",
    "#        X_zoomed = np.linspace(x_values[-1] - x_diff, x_values[-1] + x_diff, 100)\n",
    "#    else:\n",
    "#        x_diff = x_values[-40] - x_values[-1]\n",
    "#        X_zoomed = np.linspace(x_values[-1] - x_diff, x_values[-1] + x_diff, 100) \n",
    "\n",
    "    X_zoomed = np.linspace(x_values[-1] - 0.25, x_values[-1] + 0.25, 100)\n",
    "    \n",
    "    plt.plot(X_zoomed, function(X_zoomed))\n",
    "    plt.scatter(x_values, y_values, c='red')  # iterate over colormap\n",
    "    plt.xlim(x_values[-1] - 0.25, x_values[-1] + 0.25)\n",
    "    plt.ylim(function(x_values[-1]) - 0.1, function(x_values[-1] - 0.25) + 0.1)\n",
    "    #plt.ylim(y_values[-1] - 0.1, y_values[-1] + 0.1)\n",
    "    plt.show()    \n",
    "    \n",
    "    \n",
    "    "
   ]
  },
  {
   "cell_type": "code",
   "execution_count": 190,
   "metadata": {},
   "outputs": [
    {
     "name": "stdout",
     "output_type": "stream",
     "text": [
      "Local minimum occurs at: 2.0330496246444443\n",
      "Number of steps: 26\n"
     ]
    },
    {
     "data": {
      "image/png": "[encoded data removed]",
      "text/plain": [
       "<Figure size 432x288 with 1 Axes>"
      ]
     },
     "metadata": {
      "needs_background": "light"
     },
     "output_type": "display_data"
    },
    {
     "data": {
      "image/png": "[encoded data removed]",
      "text/plain": [
       "<Figure size 432x288 with 1 Axes>"
      ]
     },
     "metadata": {
      "needs_background": "light"
     },
     "output_type": "display_data"
    }
   ],
   "source": [
    "#Implement gradient descent (all the arguments are arbitrarily chosen) (x_new, x_prev, precision, l_r)\n",
    "\n",
    "step2(3.5, 3.2, 0.001, 0.02)"
   ]
  },
  {
   "cell_type": "code",
   "execution_count": null,
   "metadata": {},
   "outputs": [],
   "source": []
  },
  {
   "cell_type": "code",
   "execution_count": null,
   "metadata": {},
   "outputs": [],
   "source": []
  },
  {
   "cell_type": "code",
   "execution_count": null,
   "metadata": {},
   "outputs": [],
   "source": []
  },
  {
   "cell_type": "code",
   "execution_count": null,
   "metadata": {},
   "outputs": [],
   "source": []
  },
  {
   "cell_type": "code",
   "execution_count": null,
   "metadata": {},
   "outputs": [],
   "source": []
  },
  {
   "cell_type": "code",
   "execution_count": null,
   "metadata": {},
   "outputs": [],
   "source": []
  },
  {
   "cell_type": "code",
   "execution_count": null,
   "metadata": {},
   "outputs": [],
   "source": []
  },
  {
   "cell_type": "code",
   "execution_count": 33,
   "metadata": {},
   "outputs": [
    {
     "data": {
      "text/plain": [
       "24"
      ]
     },
     "execution_count": 33,
     "metadata": {},
     "output_type": "execute_result"
    }
   ],
   "source": [
    "# Recursive Function declaration, programming:\n",
    "\n",
    "def recur_factorial(n):\n",
    "    \"\"\"Function to return the factorial of a number using recursion\"\"\"\n",
    "    if n == 1:\n",
    "        return n\n",
    "    else:\n",
    "        return n*recur_factorial(n-1) \n",
    "\n",
    "recur_factorial(4)"
   ]
  },
  {
   "cell_type": "code",
   "execution_count": null,
   "metadata": {},
   "outputs": [],
   "source": []
  }
 ],
 "metadata": {
  "kernelspec": {
   "display_name": "Python 3",
   "language": "python",
   "name": "python3"
  },
  "language_info": {
   "codemirror_mode": {
    "name": "ipython",
    "version": 3
   },
   "file_extension": ".py",
   "mimetype": "text/x-python",
   "name": "python",
   "nbconvert_exporter": "python",
   "pygments_lexer": "ipython3",
   "version": "3.6.6"
  }
 },
 "nbformat": 4,
 "nbformat_minor": 2
}
